{
 "cells": [
  {
   "cell_type": "markdown",
   "id": "1efcf7b7-58d2-484e-ae70-30f647d47e0a",
   "metadata": {},
   "source": [
    "Q1. Which keyword is used to create a function? Create a function to return a list of odd numbers in the\n",
    "range of 1 to 25."
   ]
  },
  {
   "cell_type": "markdown",
   "id": "2164b9bd-a827-4d58-b85e-fc5bd97c3bfb",
   "metadata": {},
   "source": [
    "Ans. The keyword used to create a function in Python is def. "
   ]
  },
  {
   "cell_type": "code",
   "execution_count": 6,
   "id": "c0c2c2b5-b739-4664-b413-c47e987f3e90",
   "metadata": {},
   "outputs": [],
   "source": [
    "def odd_no ():\n",
    "    odd = []\n",
    "    for no in range (1,26):\n",
    "        if no % 2 != 0:\n",
    "            odd.append(no)\n",
    "    return odd "
   ]
  },
  {
   "cell_type": "code",
   "execution_count": 7,
   "id": "cbb6b415-299a-4b59-a852-0267b1f3f633",
   "metadata": {},
   "outputs": [
    {
     "data": {
      "text/plain": [
       "[1, 3, 5, 7, 9, 11, 13, 15, 17, 19, 21, 23, 25]"
      ]
     },
     "execution_count": 7,
     "metadata": {},
     "output_type": "execute_result"
    }
   ],
   "source": [
    "odd_no()"
   ]
  },
  {
   "cell_type": "markdown",
   "id": "649ecb2f-f3ff-46b0-8075-a50b70189925",
   "metadata": {},
   "source": [
    "Q2. Why *args and **kwargs is used in some functions? Create a function each for *args and **kwargs\n",
    "to demonstrate their use."
   ]
  },
  {
   "cell_type": "markdown",
   "id": "c1983ce2-831f-4300-b9d6-3e4212fcf59d",
   "metadata": {},
   "source": [
    "In order to accommodate variable-length arguments, Python functions employ a specific syntax known as *args and **kwargs. These make functions more adaptable and versatile by allowing them to accept any number of positional parameters and keyword arguments, respectively."
   ]
  },
  {
   "cell_type": "markdown",
   "id": "a452bc50-982c-4dfa-947e-429e32225f5f",
   "metadata": {},
   "source": [
    "\n",
    "To pass a function a variable number of arguments, use the *args syntax. It lets you pass any number of positional arguments, which the function subsequently condenses into a tuple. Although the name *args is typically used, you can use any name you like."
   ]
  },
  {
   "cell_type": "code",
   "execution_count": 4,
   "id": "5243df88-9dec-48d5-b36d-34d658fa8b91",
   "metadata": {},
   "outputs": [
    {
     "name": "stdout",
     "output_type": "stream",
     "text": [
      "[1, 2, 3, 4, 5]\n"
     ]
    }
   ],
   "source": [
    "def get_args(*args):\n",
    "    return list(args)\n",
    "\n",
    "result = get_args(1, 2, 3, 4, 5)\n",
    "print(result)  # Output: [1, 2, 3, 4, 5]\n"
   ]
  },
  {
   "cell_type": "markdown",
   "id": "bccd0320-0231-4f9e-8744-fbab79f7fbcf",
   "metadata": {},
   "source": [
    "To pass a function a configurable number of keyword arguments, use **kwargs. Any number of named parameters can be passed, and the function will compile them into a dictionary."
   ]
  },
  {
   "cell_type": "code",
   "execution_count": 2,
   "id": "00cbbf18-d3e8-4116-8b4f-a0f93cad88e3",
   "metadata": {},
   "outputs": [
    {
     "name": "stdout",
     "output_type": "stream",
     "text": [
      "name: John\n",
      "age: 25\n",
      "city: New York\n"
     ]
    }
   ],
   "source": [
    "def print_details(**kwargs):\n",
    "    for key, value in kwargs.items():\n",
    "        print(f\"{key}: {value}\")\n",
    "print_details(name=\"John\", age=25, city=\"New York\")"
   ]
  },
  {
   "cell_type": "markdown",
   "id": "487a97d2-fdf1-4edd-bc04-8a244ff9b81c",
   "metadata": {},
   "source": [
    "Q3. What is an iterator in python? Name the method used to initialise the iterator object and the method\n",
    "used for iteration. Use these methods to print the first five elements of the given list [2, 4, 6, 8, 10, 12, 14,\n",
    "16, 18, 20]."
   ]
  },
  {
   "cell_type": "markdown",
   "id": "4b4fc2e2-64f2-4fae-84b4-683ae0b68931",
   "metadata": {},
   "source": [
    "\n",
    "In Python, an iterator is an object that allows you to traverse through a sequence of elements one at a time. It provides a way to access the elements of a container (like a list or a tuple) without needing to know the underlying structure of the container.\n",
    "\n",
    "To initialize an iterator object, you can use the iter() method. This method takes a container as an argument and returns an iterator object.\n",
    "\n",
    "To iterate over the elements using the iterator object, you can use the next() method. This method retrieves the next element from the iterator. You can call it repeatedly to iterate over the remaining elements."
   ]
  },
  {
   "cell_type": "code",
   "execution_count": 4,
   "id": "80e6079c-9722-4c29-9e7b-2bf255228461",
   "metadata": {},
   "outputs": [
    {
     "name": "stdout",
     "output_type": "stream",
     "text": [
      "2\n",
      "4\n",
      "6\n",
      "8\n",
      "10\n",
      "12\n",
      "14\n"
     ]
    }
   ],
   "source": [
    "my_list = [2, 4, 6, 8, 10, 12, 14, 16, 18, 20]\n",
    "my_iterator = iter(my_list)\n",
    "\n",
    "for _ in range(7):\n",
    "    element = next(my_iterator)\n",
    "    print(element)\n"
   ]
  },
  {
   "cell_type": "markdown",
   "id": "916a5f78-9bd7-477c-b652-52237b4f683a",
   "metadata": {},
   "source": [
    "Q4. What is a generator function in python? Why yield keyword is used? Give an example of a generator\n",
    "function."
   ]
  },
  {
   "cell_type": "markdown",
   "id": "fea736f5-8bdd-42a4-83a4-5291416b2a29",
   "metadata": {},
   "source": [
    "A generator function in Python is an unique kind of function that creates a series of values so you may iterate over each one individually. Generator functions employ the yield keyword to produce a sequence of values while keeping their internal state in between each yield statement, in contrast to normal functions, which return a single value and then terminate.\n",
    "\n",
    "\n",
    "When a generator function is utilised, the yield keyword is used to define the values that should be yielded (returned) one at a time for each iteration of the generator. An iterator object, which can be used with a loop or other iterable operations, is returned when a generator function is run."
   ]
  },
  {
   "cell_type": "code",
   "execution_count": 8,
   "id": "75bc8717-c5c3-42bd-aa2e-a75d32111f1e",
   "metadata": {},
   "outputs": [
    {
     "name": "stdin",
     "output_type": "stream",
     "text": [
      "Enter the limit:  6\n"
     ]
    },
    {
     "name": "stdout",
     "output_type": "stream",
     "text": [
      "0\n",
      "2\n",
      "4\n"
     ]
    }
   ],
   "source": [
    "def even_numbers(limit):\n",
    "    num = 0\n",
    "    while num < limit:\n",
    "        yield num\n",
    "        num += 2\n",
    "limit = int(input(\"Enter the limit: \"))\n",
    "even_nums = even_numbers(limit)\n",
    "for num in even_nums:\n",
    "    print(num)\n"
   ]
  },
  {
   "cell_type": "markdown",
   "id": "3bcf880c-a441-4cb7-a910-0db5b8702408",
   "metadata": {},
   "source": [
    "Q5. Create a generator function for prime numbers less than 1000. Use the next() method to print the\n",
    "first 20 prime numbers."
   ]
  },
  {
   "cell_type": "code",
   "execution_count": 3,
   "id": "133a0d0b-1e85-4296-aa8b-26bdc8f02066",
   "metadata": {},
   "outputs": [
    {
     "name": "stdout",
     "output_type": "stream",
     "text": [
      "2\n",
      "3\n",
      "5\n",
      "7\n",
      "11\n",
      "13\n",
      "17\n",
      "19\n",
      "23\n",
      "29\n",
      "31\n",
      "37\n",
      "41\n",
      "43\n",
      "47\n",
      "53\n",
      "59\n",
      "61\n",
      "67\n",
      "71\n"
     ]
    }
   ],
   "source": [
    "def prime_generator():\n",
    "    yield 2  \n",
    "    primes = [2] \n",
    "    num = 3  \n",
    "\n",
    "    while num < 1000:\n",
    "        is_prime = True\n",
    "\n",
    "        for p in primes:\n",
    "            if num % p == 0:\n",
    "                is_prime = False\n",
    "                break\n",
    "\n",
    "        if is_prime:\n",
    "            yield num\n",
    "            primes.append(num)\n",
    "\n",
    "        num += 2\n",
    "\n",
    "prime_gen = prime_generator()\n",
    "for _ in range(20):\n",
    "    print(next(prime_gen))\n",
    "\n"
   ]
  },
  {
   "cell_type": "markdown",
   "id": "9766e7ff-d453-458f-971f-397fa04bc224",
   "metadata": {},
   "source": [
    "Q6. Write a python program to print the first 10 Fibonacci numbers using a while loop."
   ]
  },
  {
   "cell_type": "code",
   "execution_count": 5,
   "id": "2c2aebc6-a08d-48a1-9192-ffb402548da0",
   "metadata": {},
   "outputs": [
    {
     "name": "stdout",
     "output_type": "stream",
     "text": [
      "0\n",
      "1\n",
      "1\n",
      "2\n",
      "3\n",
      "5\n",
      "8\n",
      "13\n",
      "21\n",
      "34\n",
      "55\n",
      "89\n"
     ]
    }
   ],
   "source": [
    "a = 0\n",
    "b = 1\n",
    "fib_no = []\n",
    "count = 0\n",
    "print (a)\n",
    "print (b)\n",
    "while count < 10:\n",
    "    c = a + b\n",
    "    print(c)\n",
    "    a = b\n",
    "    b = c\n",
    "    count += 1"
   ]
  },
  {
   "cell_type": "markdown",
   "id": "5a220ce0-32f6-4b35-a5ab-4c7c6d111045",
   "metadata": {},
   "source": [
    "Q7. Write a List Comprehension to iterate through the given string: ‘pwskills’.\n",
    "Expected output: ['p', 'w', 's', 'k', 'i', 'l', 'l', 's']"
   ]
  },
  {
   "cell_type": "code",
   "execution_count": 6,
   "id": "d8b9e81a-946e-49a7-ac0d-65b1fe438c9d",
   "metadata": {},
   "outputs": [
    {
     "data": {
      "text/plain": [
       "['P', 'W', 'S', 'K', 'I', 'L', 'L', 'S']"
      ]
     },
     "execution_count": 6,
     "metadata": {},
     "output_type": "execute_result"
    }
   ],
   "source": [
    "a = \"pwskills\"\n",
    "[i.upper() for i in a]"
   ]
  },
  {
   "cell_type": "markdown",
   "id": "7b8bd8b1-0b9c-403b-ba2d-72b1f6647ccc",
   "metadata": {},
   "source": [
    "Q8. Write a python program to check whether a given number is Palindrome or not using a while loop."
   ]
  },
  {
   "cell_type": "code",
   "execution_count": 19,
   "id": "153588d9-4c9d-43a0-9425-a2995a73a9a6",
   "metadata": {},
   "outputs": [
    {
     "name": "stdin",
     "output_type": "stream",
     "text": [
      "Enter a number:  676\n"
     ]
    },
    {
     "name": "stdout",
     "output_type": "stream",
     "text": [
      "The number is a palindrome.\n"
     ]
    }
   ],
   "source": [
    "num = int(input(\"Enter a number: \"))\n",
    "temp = num\n",
    "reverse = 0\n",
    "\n",
    "while temp > 0:\n",
    "    digit = temp % 10\n",
    "    reverse = (reverse * 10) + digit\n",
    "    temp = temp // 10\n",
    "\n",
    "if num == reverse:\n",
    "    print(\"The number is a palindrome.\")\n",
    "else:\n",
    "    print(\"The number is not a palindrome.\")\n",
    "\n"
   ]
  },
  {
   "cell_type": "markdown",
   "id": "126e331f-3268-415c-85d4-d26d98280efc",
   "metadata": {},
   "source": [
    "Q9. Write a code to print odd numbers from 1 to 100 using list comprehension."
   ]
  },
  {
   "cell_type": "code",
   "execution_count": 35,
   "id": "8f5a1ba6-07a9-431a-ad1d-8dcaface35b0",
   "metadata": {},
   "outputs": [
    {
     "data": {
      "text/plain": [
       "[1,\n",
       " 3,\n",
       " 5,\n",
       " 7,\n",
       " 9,\n",
       " 11,\n",
       " 13,\n",
       " 15,\n",
       " 17,\n",
       " 19,\n",
       " 21,\n",
       " 23,\n",
       " 25,\n",
       " 27,\n",
       " 29,\n",
       " 31,\n",
       " 33,\n",
       " 35,\n",
       " 37,\n",
       " 39,\n",
       " 41,\n",
       " 43,\n",
       " 45,\n",
       " 47,\n",
       " 49,\n",
       " 51,\n",
       " 53,\n",
       " 55,\n",
       " 57,\n",
       " 59,\n",
       " 61,\n",
       " 63,\n",
       " 65,\n",
       " 67,\n",
       " 69,\n",
       " 71,\n",
       " 73,\n",
       " 75,\n",
       " 77,\n",
       " 79,\n",
       " 81,\n",
       " 83,\n",
       " 85,\n",
       " 87,\n",
       " 89,\n",
       " 91,\n",
       " 93,\n",
       " 95,\n",
       " 97,\n",
       " 99]"
      ]
     },
     "execution_count": 35,
     "metadata": {},
     "output_type": "execute_result"
    }
   ],
   "source": [
    "odd_numbers = [i for i in range(1, 101) if i % 2 != 0]\n"
   ]
  },
  {
   "cell_type": "code",
   "execution_count": 37,
   "id": "13002631-17b1-470a-8f23-1ec0601c0f64",
   "metadata": {},
   "outputs": [
    {
     "name": "stdout",
     "output_type": "stream",
     "text": [
      "[1, 3, 5, 7, 9, 11, 13, 15, 17, 19, 21, 23, 25, 27, 29, 31, 33, 35, 37, 39, 41, 43, 45, 47, 49, 51, 53, 55, 57, 59, 61, 63, 65, 67, 69, 71, 73, 75, 77, 79, 81, 83, 85, 87, 89, 91, 93, 95, 97, 99]\n"
     ]
    }
   ],
   "source": [
    "numbers = [num for num in range(1, 101)]\n",
    "odd_numbers = [num for num in numbers if num % 2 != 0]\n",
    "print(odd_numbers)\n"
   ]
  },
  {
   "cell_type": "code",
   "execution_count": null,
   "id": "170a82cf-5b49-4205-8a6d-5aad7be09da1",
   "metadata": {},
   "outputs": [],
   "source": []
  },
  {
   "cell_type": "code",
   "execution_count": null,
   "id": "22157ee5-54b3-4431-8d3b-82dfd1af8438",
   "metadata": {},
   "outputs": [],
   "source": []
  },
  {
   "cell_type": "code",
   "execution_count": null,
   "id": "e7270733-ddc0-46c6-a0e7-4dcca566c868",
   "metadata": {},
   "outputs": [],
   "source": []
  }
 ],
 "metadata": {
  "kernelspec": {
   "display_name": "Python 3 (ipykernel)",
   "language": "python",
   "name": "python3"
  },
  "language_info": {
   "codemirror_mode": {
    "name": "ipython",
    "version": 3
   },
   "file_extension": ".py",
   "mimetype": "text/x-python",
   "name": "python",
   "nbconvert_exporter": "python",
   "pygments_lexer": "ipython3",
   "version": "3.10.8"
  }
 },
 "nbformat": 4,
 "nbformat_minor": 5
}
